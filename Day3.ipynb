{
  "nbformat": 4,
  "nbformat_minor": 0,
  "metadata": {
    "colab": {
      "name": "Day3.ipynb",
      "provenance": [],
      "collapsed_sections": [],
      "authorship_tag": "ABX9TyNbP6WN0jBNVp8nrthFwfYJ",
      "include_colab_link": true
    },
    "kernelspec": {
      "name": "python3",
      "display_name": "Python 3"
    }
  },
  "cells": [
    {
      "cell_type": "markdown",
      "metadata": {
        "id": "view-in-github",
        "colab_type": "text"
      },
      "source": [
        "<a href=\"https://colab.research.google.com/github/katerintodorova/the-100-days-of-code/blob/main/Day3.ipynb\" target=\"_parent\"><img src=\"https://colab.research.google.com/assets/colab-badge.svg\" alt=\"Open In Colab\"/></a>"
      ]
    },
    {
      "cell_type": "markdown",
      "metadata": {
        "id": "5oS36lfiu9pZ"
      },
      "source": [
        " \">=\" greater\n",
        " \">=\" less\n",
        " 2 - even\n",
        " 1- odd\n",
        "\n",
        "\n",
        "*   draw.io\n",
        "\n"
      ]
    },
    {
      "cell_type": "code",
      "metadata": {
        "id": "_XGW5jA_sMQB"
      },
      "source": [
        "# 🚨 Don't change the code below 👇\n",
        "number = int(input(\"Which number do you want to check? \"))\n",
        "# 🚨 Don't change the code above 👆\n",
        "\n",
        "#Write your code below this line 👇\n",
        "if number % 2 == 0:\n",
        "  print(\"The number is even\")\n",
        "else:\n",
        "  print(\"The number is odd\")"
      ],
      "execution_count": null,
      "outputs": []
    },
    {
      "cell_type": "code",
      "metadata": {
        "id": "ZSDnjnVS6cn8"
      },
      "source": [
        "# 🚨 Don't change the code below 👇\n",
        "height = float(input(\"enter your height in m: \"))\n",
        "weight = float(input(\"enter your weight in kg: \"))\n",
        "# 🚨 Don't change the code above 👆\n",
        "\n",
        "#Write your code below this line 👇\n",
        "bmi = round(weight/height**2)\n",
        "\n",
        "if bmi < 18.5 :\n",
        "  print(f\"Your BMI is {bmi}, you are underweight.\")\n",
        "elif bmi < 25:\n",
        "  print(f\"Your BMI is {bmi}, you have a normal weight.\")\n",
        "elif bmi < 30:\n",
        "  print(f\"Your BMI is {bmi}, you are slightly overweight.\")\n",
        "elif bmi < 35:\n",
        "  print(f\"Your BMI is {bmi}, you are obese.\")\n",
        "else:\n",
        "  print(f\"Your BMI is {bmi}, you are clinically obese.\")"
      ],
      "execution_count": null,
      "outputs": []
    },
    {
      "cell_type": "code",
      "metadata": {
        "colab": {
          "base_uri": "https://localhost:8080/"
        },
        "id": "7TpLXiSE1H1-",
        "outputId": "62e64bec-09cd-446a-c8e6-2d8d7b3702df"
      },
      "source": [
        "# 🚨 Don't change the code below 👇\n",
        "year = int(input(\"Which year do you want to check? \"))\n",
        "# 🚨 Don't change the code above 👆\n",
        "\n",
        "\n",
        "#Write your code below this line 👇\n",
        "if year % 4 == 0: #yes1 \n",
        "  if year % 100 == 0: #yes2\n",
        "    if year % 400 == 0: \n",
        "      print(\"Its a leap year\")#yes3\n",
        "    else:\n",
        "      print(\"notleappp\")#no3\n",
        "  else:\n",
        "    print(\"leap\")#no2\n",
        "else:\n",
        "    (\"NO leap!!!\") #no1\n"
      ],
      "execution_count": null,
      "outputs": [
        {
          "output_type": "stream",
          "text": [
            "Which year do you want to check? 2000\n",
            "Its a leap year\n"
          ],
          "name": "stdout"
        }
      ]
    },
    {
      "cell_type": "code",
      "metadata": {
        "id": "FjpPaxWp6HYg"
      },
      "source": [
        "# 🚨 Don't change the code below 👇\n",
        "print(\"Welcome to Python Pizza Deliveries!\")\n",
        "size = input(\"What size pizza do you want? S, M, or L - \")\n",
        "add_pepperoni = input(\"Do you want pepperoni? Y or N - \")\n",
        "extra_cheese = input(\"Do you want extra cheese? Y or N - \")\n",
        "# 🚨 Don't change the code above 👆\n",
        "\n",
        "#Write your code below this line 👇\n",
        "bill = 0\n",
        "if size == \"S\":\n",
        "  bill= 15\n",
        "if size == \"M\":\n",
        "  bill = 20\n",
        "if size == \"L\":\n",
        "  bill = 25\n",
        "\n",
        "if add_pepperoni == \"Y\":\n",
        "  if size == \"S\":\n",
        "    bill += 2\n",
        "  else:\n",
        "    bill += 3\n",
        "\n",
        "if extra_cheese == \"Y\":\n",
        "  bill +=1\n",
        "\n",
        "print(f\"You have to pay {bill}\")"
      ],
      "execution_count": null,
      "outputs": []
    },
    {
      "cell_type": "code",
      "metadata": {
        "colab": {
          "base_uri": "https://localhost:8080/"
        },
        "id": "Gr_YYNgNouHL",
        "outputId": "3ec6e423-d7f9-42ff-bac0-e4f3da4a8e8b"
      },
      "source": [
        "# 🚨 Don't change the code below 👇\n",
        "print(\"Welcome to the Love Calculator!\")\n",
        "name1 = input(\"What is your name? \\n\")\n",
        "name2 = input(\"What is their name? \\n\")\n",
        "# 🚨 Don't change the code above 👆\n",
        "\n",
        "#Write your code below this line 👇\n",
        "name1_lower = name1.lower()\n",
        "name2_lower = name2.lower()\n",
        "\n",
        "true_score = 0\n",
        "\n",
        "if  name1_lower.count(\"t\") or name2.count(\"t\") != 0:\n",
        "  true_score += name1_lower.count(\"t\") + name2_lower.count(\"t\")\n",
        "if name1_lower.count(\"r\") or name2.count(\"r\") != 0:\n",
        "  true_score += name1_lower.count(\"r\") + name2_lower.count(\"r\")\n",
        "if name1_lower.count(\"u\") or name2.count(\"u\") != 0:\n",
        "  true_score += name1_lower.count(\"u\") + name2_lower.count(\"u\")\n",
        "if name1_lower.count(\"e\") or name2.count(\"e\") != 0:\n",
        "  true_score += name1_lower.count(\"e\") + name2_lower.count(\"e\")\n",
        "\n",
        "love_score = 0 \n",
        "\n",
        "if name1_lower.count(\"l\") or name2.count(\"l\") != 0:\n",
        "  love_score += name1_lower.count(\"l\") + name2_lower.count(\"l\")\n",
        "if name1_lower.count(\"o\") or name2.count(\"o\") != 0:\n",
        "  love_score += name1_lower.count(\"o\") + name2_lower.count(\"o\")\n",
        "if name1_lower.count(\"v\") or name2.count(\"v\") != 0:\n",
        "  love_score += name1_lower.count(\"v\") + name2_lower.count(\"v\")\n",
        "if name1_lower.count(\"e\") or name2.count(\"e\") != 0:\n",
        "  love_score += name1_lower.count(\"e\") + name2_lower.count(\"e\")\n",
        "\n",
        "total_score = str(true_score) + str(love_score)\n",
        "total_score = int(total_score)\n",
        "\n",
        "\n",
        "if total_score < 10 or total_score > 90:\n",
        "  print(f\"Your score is {total_score}, you go together like coke and mentos.\")\n",
        "elif 40 < total_score < 50:\n",
        "  print(f\"Your score is {total_score} , you are alright together.\")\n",
        "else:\n",
        "  print(f\"Your score is {total_score}.\")"
      ],
      "execution_count": null,
      "outputs": [
        {
          "output_type": "stream",
          "text": [
            "Welcome to the Love Calculator!\n"
          ],
          "name": "stdout"
        }
      ]
    }
  ]
}