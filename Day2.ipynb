{
  "nbformat": 4,
  "nbformat_minor": 0,
  "metadata": {
    "colab": {
      "name": "Day2.ipynb",
      "provenance": [],
      "collapsed_sections": []
    },
    "kernelspec": {
      "name": "python3",
      "display_name": "Python 3"
    }
  },
  "cells": [
    {
      "cell_type": "markdown",
      "metadata": {
        "id": "5oS36lfiu9pZ"
      },
      "source": [
        "Write a program that adds the digits in a 2 digit number. e.g. if the input was 35, then the output should be 3 + 5 = 8"
      ]
    },
    {
      "cell_type": "code",
      "metadata": {
        "id": "_XGW5jA_sMQB"
      },
      "source": [
        "# 🚨 Don't change the code below 👇\n",
        "two_digit_number = input(\"Type a two digit number: \")\n",
        "# 🚨 Don't change the code above 👆\n",
        "\n",
        "####################################\n",
        "#Write your code below this line 👇\n",
        "print(int(two_digit_number[0])+ int(two_digit_number[1]))\n"
      ],
      "execution_count": null,
      "outputs": []
    },
    {
      "cell_type": "markdown",
      "metadata": {
        "id": "0AYVDzRbtU1r"
      },
      "source": [
        "Write a program that calculates the Body Mass Index (BMI) from a user's weight and height."
      ]
    },
    {
      "cell_type": "code",
      "metadata": {
        "id": "LDiFeqiDscQq"
      },
      "source": [
        "# 🚨 Don't change the code below 👇\n",
        "height = input(\"enter your height in m: \")\n",
        "weight = input(\"enter your weight in kg: \")\n",
        "# 🚨 Don't change the code above 👆\n",
        "\n",
        "#Write your code below this line 👇\n",
        "\n",
        "bmi = int(weight)/float(height)**2\n",
        "print(int(bmi))"
      ],
      "execution_count": null,
      "outputs": []
    },
    {
      "cell_type": "markdown",
      "metadata": {
        "id": "Y_sLUmAIvlVV"
      },
      "source": [
        "Create a program using maths and f-Strings that tells us how many days, weeks, months we have left if we live until 90 years old."
      ]
    },
    {
      "cell_type": "code",
      "metadata": {
        "id": "UQh5HQmMvdjt"
      },
      "source": [
        "# 🚨 Don't change the code below 👇\n",
        "age = input(\"What is your current age?\")\n",
        "# 🚨 Don't change the code above 👆\n",
        "\n",
        "#Write your code below this line 👇\n",
        "#Tim Urban - Your Life in Weeks\n",
        "#There are 365 days in a year, 52 weeks in a year and 12 months in a year.\n",
        "\n",
        "x = int(age)* 365\n",
        "y = int(age)* 52\n",
        "z = int(age)* 12\n",
        "\n",
        "print(f\"You have {90*365-x} days, {90*52-y} weeks, and {90*12-z} months left.\")"
      ],
      "execution_count": null,
      "outputs": []
    },
    {
      "cell_type": "markdown",
      "metadata": {
        "id": "LijamMak1t83"
      },
      "source": [
        "If the bill was $150.00, split between 5 people, with 12% tip. \n",
        "Each person should pay (150.00 / 5) * 1.12 = 33.6\n",
        "Format the result to 2 decimal places = 33.60"
      ]
    },
    {
      "cell_type": "code",
      "metadata": {
        "colab": {
          "base_uri": "https://localhost:8080/"
        },
        "id": "LHBoxUwiv9c9",
        "outputId": "3d2849cc-1eb5-423b-c0d6-b3bdc246f769"
      },
      "source": [
        "bill = float(input(\"Your bill: \"))\n",
        "number_of_ppl = int(input(\"How many friends are ready to pay? \"))\n",
        "percent_tips = float(input(\"Don't be mean, leave tips, choose 10%, 12%, 15%: \"))\n",
        "tips = bill/number_of_ppl*percent_tips/100\n",
        "total = bill/number_of_ppl+tips\n",
        "print(f\"Everyone has to pay {round(total, 2)}\")"
      ],
      "execution_count": 6,
      "outputs": [
        {
          "output_type": "stream",
          "text": [
            "Your bill: 150\n",
            "How many friends are ready to pay? 5\n",
            "Don't be mean, leave tips, choose 10%, 12%, 15%: 12\n",
            "Everyone has to pay 33.6\n"
          ],
          "name": "stdout"
        }
      ]
    }
  ]
}