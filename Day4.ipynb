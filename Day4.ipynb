{
  "nbformat": 4,
  "nbformat_minor": 0,
  "metadata": {
    "colab": {
      "name": "Day4.ipynb",
      "provenance": [],
      "authorship_tag": "ABX9TyMjCN6YSST6x4dzIuM7VJ4d",
      "include_colab_link": true
    },
    "kernelspec": {
      "name": "python3",
      "display_name": "Python 3"
    }
  },
  "cells": [
    {
      "cell_type": "markdown",
      "metadata": {
        "id": "view-in-github",
        "colab_type": "text"
      },
      "source": [
        "<a href=\"https://colab.research.google.com/github/katerintodorova/the-100-days-of-code/blob/main/Day4.ipynb\" target=\"_parent\"><img src=\"https://colab.research.google.com/assets/colab-badge.svg\" alt=\"Open In Colab\"/></a>"
      ]
    },
    {
      "cell_type": "markdown",
      "metadata": {
        "id": "eXbH6UL7pdLr"
      },
      "source": [
        "tails & heads\n"
      ]
    },
    {
      "cell_type": "code",
      "metadata": {
        "id": "hqF2k6DipOhy"
      },
      "source": [
        "#Remember to use the random module 👇\n",
        "import random\n",
        "\n",
        "# 🚨 Don't change the code below 👇\n",
        "test_seed = int(input(\"Create a seed number: \"))\n",
        "random.seed(test_seed)\n",
        "\n",
        "# 🚨 Don't change the code above 👆\n",
        "\n",
        "#Write your code below this line 👇\n",
        "random_number = random.randint(0,1)\n",
        "if random_number == 0:\n",
        "  print(\"Tails\")\n",
        "else:\n",
        "  print(\"Heads\")"
      ],
      "execution_count": null,
      "outputs": []
    },
    {
      "cell_type": "markdown",
      "metadata": {
        "id": "tcK4VzIyplJ8"
      },
      "source": [
        "The person selected will have to pay for everybody's food bill."
      ]
    },
    {
      "cell_type": "code",
      "metadata": {
        "id": "9ZV8rU1Hplmw"
      },
      "source": [
        "import random\n",
        "# 🚨 Don't change the code below 👇\n",
        "test_seed = int(input(\"Create a seed number: \"))\n",
        "random.seed(test_seed)\n",
        "\n",
        "# Split string method\n",
        "namesAsCSV = input(\"Give me everybody's names, seperated by a comma. \")\n",
        "names = namesAsCSV.split(\", \")\n",
        "# 🚨 Don't change the code above 👆\n",
        "\n",
        "#Write your code below this line 👇\n",
        "number_of_ppl = len(names)\n",
        "random_number = random.randint(0,number_of_ppl-1)\n",
        "person_who_will_pay = names[random_number]\n",
        "\n",
        "# or we could have done it another way:\n",
        "#person_who_will_pay = random.choice(names)\n",
        "print (f\"{person_who_will_pay} is going to buy the meal today!\")"
      ],
      "execution_count": null,
      "outputs": []
    },
    {
      "cell_type": "markdown",
      "metadata": {
        "id": "SQT5CaTPpw1C"
      },
      "source": [
        "You are going to write a program which will mark a spot with an X."
      ]
    },
    {
      "cell_type": "code",
      "metadata": {
        "id": "ZK5y7652p_45"
      },
      "source": [
        "# 🚨 Don't change the code below 👇\n",
        "row1 = [\"⬜️\",\"⬜️\",\"⬜️\"]\n",
        "row2 = [\"⬜️\",\"⬜️\",\"⬜️\"]\n",
        "row3 = [\"⬜️\",\"⬜️\",\"⬜️\"]\n",
        "map = [row1, row2, row3]\n",
        "print(f\"{row1}\\n{row2}\\n{row3}\")\n",
        "position = input(\"Where do you want to put the treasure? \")\n",
        "# 🚨 Don't change the code above 👆\n",
        "\n",
        "#Write your code below this row 👇\n",
        "#column 2, row 3 would be entered as: 23\n",
        "column = int(position[0])\n",
        "row = int(position[1])\n",
        "map[row -1][column -1] = \"x\"\n",
        "\n",
        "\n",
        "#Write your code above this row 👆\n",
        "\n",
        "# 🚨 Don't change the code below 👇\n",
        "print(f\"{row1}\\n{row2}\\n{row3}\")"
      ],
      "execution_count": null,
      "outputs": []
    },
    {
      "cell_type": "markdown",
      "metadata": {
        "id": "R4vUVWnvqFtO"
      },
      "source": [
        "Game - Rock/ Paper/ Scissors"
      ]
    },
    {
      "cell_type": "code",
      "metadata": {
        "id": "MK5sqWKMqK-n"
      },
      "source": [
        "import random \n",
        "\n",
        "rock = '''\n",
        "    _______\n",
        "---'   ____)\n",
        "      (_____)\n",
        "      (_____)\n",
        "      (____)\n",
        "---.__(___)\n",
        "'''\n",
        "\n",
        "paper = '''\n",
        "    _______\n",
        "---'   ____)____\n",
        "          ______)\n",
        "          _______)\n",
        "         _______)\n",
        "---.__________)\n",
        "'''\n",
        "\n",
        "scissors = '''\n",
        "    _______\n",
        "---'   ____)____\n",
        "          ______)\n",
        "       __________)\n",
        "      (____)\n",
        "---.__(___)\n",
        "'''\n",
        "\n",
        "\n",
        "person_choice = int(input(\"What are ypu gonna choose? 0 - Rock, 1 - paper, 2-scissors\"))\n",
        "print(actions[person_choice])\n",
        "computer_choice = random.randint(0,2)\n",
        "print(actions[computer_choice])\n",
        "if person_choice == 0 and computer_choice == 1:\n",
        "  print(\"You lost\")\n",
        "if person_choice == 0 and computer_choice == 2:\n",
        "  print(\"You won\")\n",
        "if person_choice == 1 and computer_choice == 0:\n",
        "  print(\"You won\")\n",
        "if person_choice == 1 and computer_choice == 2:\n",
        "  print(\"You lost\")\n",
        "if person_choice == 2 and computer_choice == 1:\n",
        "  print(\"You won\")\n",
        "if person_choice == 2 and computer_choice == 0:\n",
        "  print(\"You won\")\n",
        "if person_choice == computer_choice:\n",
        "  print(\"Its draw\")"
      ],
      "execution_count": null,
      "outputs": []
    }
  ]
}